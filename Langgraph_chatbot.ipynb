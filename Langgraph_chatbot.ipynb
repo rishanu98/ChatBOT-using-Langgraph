{
 "cells": [
  {
   "cell_type": "code",
   "execution_count": 36,
   "id": "19b2cb18",
   "metadata": {},
   "outputs": [],
   "source": [
    "from typing import Annotated\n",
    "from typing_extensions import TypedDict"
   ]
  },
  {
   "cell_type": "code",
   "execution_count": 37,
   "id": "8e00a290",
   "metadata": {},
   "outputs": [],
   "source": [
    "## Working With Tools\n",
    "\n",
    "from langchain_community.utilities import ArxivAPIWrapper, WikipediaAPIWrapper\n",
    "from langchain_community.tools import ArxivQueryRun, WikipediaQueryRun\n",
    "\n",
    "## Arxiv and Wikipedia tools\n",
    "arxiv_wrapper = ArxivAPIWrapper(top_k_results=1,doc_content_chars_max=300)\n",
    "arxiv_tool  = ArxivQueryRun(api_wrapper=arxiv_wrapper)\n",
    "\n",
    "wiki_wrapper = WikipediaAPIWrapper(top_k_results=1,doc_content_chars_max=300)\n",
    "wiki_tool = WikipediaQueryRun(api_wrapper=wiki_wrapper)"
   ]
  },
  {
   "cell_type": "code",
   "execution_count": 38,
   "id": "02e5b0ef",
   "metadata": {},
   "outputs": [
    {
     "data": {
      "text/plain": [
       "'Page: Shah Rukh Khan\\nSummary: Shah Rukh Khan (pronounced [ˈʃaːɦɾʊx xäːn] ; born 2 November 1965), also known by the initialism SRK, is an Indian actor and film producer who works in Hindi cinema. Referred to in the media as the \"Baadshah of Bollywood\" and \"King Khan\", he has appeared in more than 10'"
      ]
     },
     "execution_count": 38,
     "metadata": {},
     "output_type": "execute_result"
    }
   ],
   "source": [
    "wiki_tool.invoke('Who is Sharukh khan?')"
   ]
  },
  {
   "cell_type": "code",
   "execution_count": 39,
   "id": "d1f2f5ea",
   "metadata": {},
   "outputs": [
    {
     "data": {
      "text/plain": [
       "'Published: 2024-04-03\\nTitle: Positioning is All You Need\\nAuthors: Xin Li\\nSummary: One can drive safely with a GPS without memorizing a world map (not to\\nmention the dark regions that humans have never explored). Such a\\nlocality-based attention mechanism has a profound implication on our\\nunderstandin'"
      ]
     },
     "execution_count": 39,
     "metadata": {},
     "output_type": "execute_result"
    }
   ],
   "source": [
    "arxiv_tool.invoke('Attention is all you need?')"
   ]
  },
  {
   "cell_type": "code",
   "execution_count": 40,
   "id": "22ff4a63",
   "metadata": {},
   "outputs": [],
   "source": [
    "tools=[wiki_tool,arxiv_tool]"
   ]
  },
  {
   "cell_type": "code",
   "execution_count": 41,
   "id": "5079672a",
   "metadata": {},
   "outputs": [],
   "source": [
    "## Langraph Application\n",
    "from langgraph.graph.message import add_messages\n",
    "class State(TypedDict):\n",
    "    messages:Annotated[list,add_messages]"
   ]
  },
  {
   "cell_type": "code",
   "execution_count": 42,
   "id": "b58e61ad",
   "metadata": {},
   "outputs": [],
   "source": [
    "from langgraph.graph import StateGraph,START,END\n"
   ]
  },
  {
   "cell_type": "code",
   "execution_count": 43,
   "id": "99e7422b",
   "metadata": {},
   "outputs": [],
   "source": [
    "graphbuilder = StateGraph(State)"
   ]
  },
  {
   "cell_type": "code",
   "execution_count": 44,
   "id": "7885b26c",
   "metadata": {},
   "outputs": [],
   "source": [
    "from langchain_groq import ChatGroq\n",
    "from pathlib import Path\n",
    "import os\n",
    "from dotenv import load_dotenv\n",
    "env_path = Path(r\"D:\\Anaconda\\envs\\langgraph_chatbot\\.env\")\n",
    "load_dotenv(dotenv_path=env_path)\n",
    "\n",
    "groq_api_key = os.getenv(\"GROQ_API_KEY\")\n",
    "\n",
    "## load llm model \n",
    "\n",
    "llm = ChatGroq(groq_api_key=groq_api_key,model='Gemma2-9b-It')\n",
    "llm_with_tools=llm.bind_tools(tools=tools)"
   ]
  },
  {
   "cell_type": "code",
   "execution_count": 45,
   "id": "78abf72e",
   "metadata": {},
   "outputs": [],
   "source": [
    "def chatbot(state:State):\n",
    "    return {'messages':[llm_with_tools.invoke(state['messages'])]}\n",
    "\n"
   ]
  },
  {
   "cell_type": "code",
   "execution_count": 46,
   "id": "7916be6f",
   "metadata": {},
   "outputs": [],
   "source": [
    "from langgraph.prebuilt import ToolNode,tools_condition"
   ]
  },
  {
   "cell_type": "code",
   "execution_count": 47,
   "id": "2d20e81f",
   "metadata": {},
   "outputs": [
    {
     "data": {
      "text/plain": [
       "<langgraph.graph.state.StateGraph at 0x1f72fb74910>"
      ]
     },
     "execution_count": 47,
     "metadata": {},
     "output_type": "execute_result"
    }
   ],
   "source": [
    "graphbuilder.add_node('chatbot',chatbot)\n",
    "graphbuilder.add_edge(START,\"chatbot\")\n",
    "tool_node = ToolNode(tools=tools)\n",
    "graphbuilder.add_node(\"tools\",tool_node)\n",
    "\n",
    "graphbuilder.add_conditional_edges(\n",
    "    \"chatbot\",\n",
    "    tools_condition  ##bidirectional edges\n",
    ")\n",
    "graphbuilder.add_edge(\"tools\",\"chatbot\")\n",
    "graphbuilder.add_edge(\"chatbot\",END)\n"
   ]
  },
  {
   "cell_type": "code",
   "execution_count": 48,
   "id": "f6d244b5",
   "metadata": {},
   "outputs": [],
   "source": [
    "graph = graphbuilder.compile()"
   ]
  },
  {
   "cell_type": "code",
   "execution_count": 49,
   "id": "df39a579",
   "metadata": {},
   "outputs": [
    {
     "data": {
      "image/png": "[encoded data removed]",
      "text/plain": [
       "<langgraph.graph.state.CompiledStateGraph object at 0x000001F730741450>"
      ]
     },
     "execution_count": 49,
     "metadata": {},
     "output_type": "execute_result"
    }
   ],
   "source": [
    "graph"
   ]
  },
  {
   "cell_type": "code",
   "execution_count": 51,
   "id": "31ffedf6",
   "metadata": {},
   "outputs": [
    {
     "name": "stdout",
     "output_type": "stream",
     "text": [
      "================================\u001b[1m Human Message \u001b[0m=================================\n",
      "\n",
      "Hi there! My name is Anurag\n",
      "==================================\u001b[1m Ai Message \u001b[0m==================================\n",
      "Tool Calls:\n",
      "  wikipedia (call_5qy2)\n",
      " Call ID: call_5qy2\n",
      "  Args:\n",
      "    query: Anurag\n",
      "=================================\u001b[1m Tool Message \u001b[0m=================================\n",
      "Name: wikipedia\n",
      "\n",
      "Page: Anurag\n",
      "Summary: Anurag (Devanagari: अनुराग) (pronounced \"Anurāg\"), sometimes shorted Anu, is a common Indian first name. There are various meanings of Anurag in Sanskrit such as attachment, devotion, passion and eternal love.\n",
      "Notable people named Anurag include:\n",
      "\n",
      "Anurag Basu, Bollywood film di\n",
      "==================================\u001b[1m Ai Message \u001b[0m==================================\n",
      "\n",
      "Anurag is a common Indian first name.  There are various meanings of Anurag in Sanskrit such as attachment, devotion, passion and eternal love.\n"
     ]
    }
   ],
   "source": [
    "user_input = \"Hi there! My name is Anurag\"\n",
    "\n",
    "events=graph.stream(\n",
    "    {'messages':[(\"user\",user_input)]},stream_mode='values'\n",
    ")\n",
    "\n",
    "for event in events:\n",
    "    event[\"messages\"][-1].pretty_print()"
   ]
  },
  {
   "cell_type": "code",
   "execution_count": null,
   "id": "d89a1821",
   "metadata": {},
   "outputs": [],
   "source": []
  }
 ],
 "metadata": {
  "kernelspec": {
   "display_name": "langgraph_chatbot",
   "language": "python",
   "name": "python3"
  },
  "language_info": {
   "codemirror_mode": {
    "name": "ipython",
    "version": 3
   },
   "file_extension": ".py",
   "mimetype": "text/x-python",
   "name": "python",
   "nbconvert_exporter": "python",
   "pygments_lexer": "ipython3",
   "version": "3.13.3"
  }
 },
 "nbformat": 4,
 "nbformat_minor": 5
}
